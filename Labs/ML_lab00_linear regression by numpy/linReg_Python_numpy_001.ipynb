{
 "cells": [
  {
   "cell_type": "markdown",
   "metadata": {},
   "source": [
    "#### linear and polinomial regression by gradient descent and by matrix equation"
   ]
  },
  {
   "cell_type": "code",
   "execution_count": 1,
   "metadata": {
    "collapsed": true
   },
   "outputs": [],
   "source": [
    "% matplotlib inline\n",
    "import matplotlib.pyplot as plt\n",
    "import numpy as np\n",
    "import time\n"
   ]
  },
  {
   "cell_type": "markdown",
   "metadata": {},
   "source": [
    "##### linear regression"
   ]
  },
  {
   "cell_type": "code",
   "execution_count": 2,
   "metadata": {},
   "outputs": [
    {
     "data": {
      "image/png": "[encoded data removed]",
      "text/plain": [
       "<Figure size 432x288 with 1 Axes>"
      ]
     },
     "metadata": {},
     "output_type": "display_data"
    },
    {
     "name": "stdout",
     "output_type": "stream",
     "text": [
      "regressionByIteration mse=  1898.1284057573048\n",
      "regressionByIteration takes  0.24401402473449707\n"
     ]
    }
   ],
   "source": [
    "def regressionByIteration():\n",
    "    import matplotlib.pyplot as plt\n",
    "    import numpy as np\n",
    "    xr=np.matrix(np.linspace(0,10,30))\n",
    "    #xr=np.linspace(0,10,30)\n",
    "    x=xr.T\n",
    "    y=np.power(x,2)+1\n",
    "    plt.plot(x,y)\n",
    "    m=x.size\n",
    "    on=np.ones([m,1])\n",
    "    X=np.concatenate((on,x),axis=1)\n",
    "    theta=np.matrix('0.1;1.3')\n",
    "    h=np.dot(X,theta)\n",
    "    plt.plot(x,h)\n",
    "    #print(h)\n",
    "    alpha=0.05\n",
    "    iter=500\n",
    "    #j=0\n",
    "    for i in range(iter):\n",
    "        theta[0][0]=theta[0][0]-alpha*(1/m)*np.sum(h-y)\n",
    "        theta[1][0]=theta[1][0]-alpha*(1/m)*np.sum(np.multiply((h-y),x))\n",
    "        h=np.dot(X,theta)\n",
    "    plt.figure(1)\n",
    "    plt.plot(x,h,label='regressionByIteration')   \n",
    "    leg=plt.legend(loc='upper right',shadow=True,fontsize='x-small')\n",
    "    leg.get_frame().set_facecolor('#0055DD')\n",
    "    leg.get_frame().set_facecolor('#eeeeee')\n",
    "    leg.get_frame().set_alpha(0.5)\n",
    "    plt.show()\n",
    "    mse=np.sum(np.power((h-y),2))\n",
    "    print('regressionByIteration mse= ', mse)\n",
    "t0=time.time()    \n",
    "regressionByIteration()  \n",
    "t1=time.time()\n",
    "#print(t0)\n",
    "print('regressionByIteration takes ',(t1-t0))\n"
   ]
  },
  {
   "cell_type": "code",
   "execution_count": null,
   "metadata": {
    "collapsed": true
   },
   "outputs": [],
   "source": []
  },
  {
   "cell_type": "code",
   "execution_count": null,
   "metadata": {
    "collapsed": true
   },
   "outputs": [],
   "source": []
  }
 ],
 "metadata": {
  "kernelspec": {
   "display_name": "Python 3",
   "language": "python",
   "name": "python3"
  },
  "language_info": {
   "codemirror_mode": {
    "name": "ipython",
    "version": 3
   },
   "file_extension": ".py",
   "mimetype": "text/x-python",
   "name": "python",
   "nbconvert_exporter": "python",
   "pygments_lexer": "ipython3",
   "version": "3.6.3"
  }
 },
 "nbformat": 4,
 "nbformat_minor": 2
}
